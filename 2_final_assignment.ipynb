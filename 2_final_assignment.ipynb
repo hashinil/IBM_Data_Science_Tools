{
  "metadata": {
    "language_info": {
      "codemirror_mode": {
        "name": "python",
        "version": 3
      },
      "file_extension": ".py",
      "mimetype": "text/x-python",
      "name": "python",
      "nbconvert_exporter": "python",
      "pygments_lexer": "ipython3",
      "version": "3.8"
    },
    "kernelspec": {
      "name": "python",
      "display_name": "Pyolite",
      "language": "python"
    }
  },
  "nbformat_minor": 4,
  "nbformat": 4,
  "cells": [
    {
      "cell_type": "markdown",
      "source": "<h1 id=\"title1\">My Jupyter Notebook on IBM Watson Studio</h1>",
      "metadata": {}
    },
    {
      "cell_type": "markdown",
      "source": "<b> Hashini Liyanage </b></br>\nData Engineer",
      "metadata": {}
    },
    {
      "cell_type": "markdown",
      "source": "<i id=\"body1\">I am interested in data science because I have worked with data last few years as a software engineer\nand now I want to learn and use it in proper way</i>",
      "metadata": {}
    },
    {
      "cell_type": "markdown",
      "source": "<h3 id=\"title2\">Calculate the sum of given numbers and Print</h3>",
      "metadata": {}
    },
    {
      "cell_type": "code",
      "source": "sum = 3+5\nprint(\"Sum of given numbers: \",sum)",
      "metadata": {
        "trusted": true
      },
      "execution_count": 10,
      "outputs": [
        {
          "name": "stdout",
          "text": "Sum of given numbers:  8\n",
          "output_type": "stream"
        }
      ]
    },
    {
      "cell_type": "markdown",
      "source": "<hr>\n<ul>\n    <li>\n        <a href=\"https://#hello\">Say \"Hello\" to the world in Python</a>\n    </li>\n</ul>\n<table>\n    <tr>\n        <td>Head 1</td><td>Head 2</td>\n    </tr>\n    <tr>\n        <td>data 1</td><td>data 2</td>\n    </tr>\n    <tr>\n        <td>data 3</td><td>data 4</td>\n    </tr>\n</table>",
      "metadata": {}
    },
    {
      "cell_type": "markdown",
      "source": "",
      "metadata": {}
    }
  ]
}